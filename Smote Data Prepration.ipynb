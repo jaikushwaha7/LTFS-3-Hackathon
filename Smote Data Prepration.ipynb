{
 "cells": [
  {
   "cell_type": "code",
   "execution_count": 85,
   "metadata": {},
   "outputs": [],
   "source": [
    "# load and summarize the dataset\n",
    "import pandas as pd\n",
    "import numpy as np\n",
    "from collections import Counter\n",
    "from matplotlib import pyplot\n",
    "from sklearn.preprocessing import LabelEncoder\n"
   ]
  },
  {
   "cell_type": "code",
   "execution_count": 125,
   "metadata": {},
   "outputs": [],
   "source": [
    "df_train = pd.read_csv('Data Prepared for Modelling/Smote Data/df_train_imputed_median_smote.csv')\n",
    "df_test = pd.read_csv('Data Prepared for Modelling/Smote Data/df_test_imputed_median_smote.csv')"
   ]
  },
  {
   "cell_type": "code",
   "execution_count": 127,
   "metadata": {},
   "outputs": [
    {
     "data": {
      "text/plain": [
       "0    0\n",
       "1    6\n",
       "2    1\n",
       "3    0\n",
       "4    5\n",
       "Name: Top-up Month, dtype: int64"
      ]
     },
     "execution_count": 127,
     "metadata": {},
     "output_type": "execute_result"
    }
   ],
   "source": [
    "df_train['Top-up Month'].head()"
   ]
  },
  {
   "cell_type": "markdown",
   "metadata": {},
   "source": [
    "# Creating data with Median Imputed data"
   ]
  },
  {
   "cell_type": "code",
   "execution_count": 138,
   "metadata": {},
   "outputs": [
    {
     "name": "stdout",
     "output_type": "stream",
     "text": [
      "NA values in Training Data:  0 \n",
      "NA values in Testing Data : 0\n",
      "Class=0, n=8366 (6.503%)\n",
      "Class=6, n=106677 (82.917%)\n",
      "Class=1, n=1034 (0.804%)\n",
      "Class=5, n=3656 (2.842%)\n",
      "Class=2, n=2368 (1.841%)\n",
      "Class=3, n=3492 (2.714%)\n",
      "Class=4, n=3062 (2.380%)\n"
     ]
    },
    {
     "data": {
      "image/png": "[encoded data removed]",
      "text/plain": [
       "<Figure size 432x288 with 1 Axes>"
      ]
     },
     "metadata": {
      "needs_background": "light"
     },
     "output_type": "display_data"
    }
   ],
   "source": [
    "df_train = pd.read_csv('Data Prepared for Modelling/df_train_imputed_median.csv')\n",
    "df_test = pd.read_csv('Data Prepared for Modelling/df_test_imputed_median.csv')\n",
    "df_train = df_train.rename(columns={'Top.up.Month': 'Top-up Month'})\n",
    "# split into input and output elements\n",
    "X, y = df_train.drop(['ID','Top-up Month'], axis =1), df_train['Top-up Month']\n",
    "# label encode the target variable\n",
    "y = LabelEncoder().fit_transform(y)\n",
    "# summarize distribution\n",
    "counter = Counter(y)\n",
    "print('NA values in Training Data: ', df_train.isna().sum().sum(),'\\nNA values in Testing Data :', df_test.isna().sum().sum())\n",
    "for k,v in counter.items():\n",
    "\tper = v / len(y) * 100\n",
    "\tprint('Class=%d, n=%d (%.3f%%)' % (k, v, per))\n",
    "# plot the distribution\n",
    "pyplot.bar(counter.keys(), counter.values())\n",
    "pyplot.show()"
   ]
  },
  {
   "cell_type": "code",
   "execution_count": 155,
   "metadata": {},
   "outputs": [
    {
     "name": "stdout",
     "output_type": "stream",
     "text": [
      "Counter({6: 106677, 0: 8366, 5: 3656, 3: 3492, 4: 3062, 2: 2368, 1: 1034}) \n",
      " No Top-up Service    106677\n",
      " > 48 Months           8366\n",
      "36-48 Months           3656\n",
      "24-30 Months           3492\n",
      "30-36 Months           3062\n",
      "18-24 Months           2368\n",
      "12-18 Months           1034\n",
      "Name: Top-up Month, dtype: int64\n"
     ]
    },
    {
     "data": {
      "text/plain": [
       "No Top-up Service    106677\n",
       "> 48 Months            8366\n",
       "36-48 Months           3656\n",
       "24-30 Months           3492\n",
       "30-36 Months           3062\n",
       "18-24 Months           2368\n",
       "12-18 Months           1034\n",
       "Name: Top-up Month, dtype: int64"
      ]
     },
     "execution_count": 155,
     "metadata": {},
     "output_type": "execute_result"
    }
   ],
   "source": [
    "print(counter,'\\n', df_train['Top-up Month'].value_counts())\n",
    "dictionary = {6 :'No Top-up Service', 0:'> 48 Months',5 :'36-48 Months', 3:'24-30 Months',\n",
    "              4 :'30-36 Months', 2 :'18-24 Months', 1:'12-18 Months'}\n",
    "z= pd.DataFrame(y)\n",
    "z = z.rename(columns={0:'Top-up Month'})\n",
    "z['Top-up Month']=z['Top-up Month'].map(dictionary)\n",
    "z['Top-up Month'].value_counts()\n",
    "# No Top-up Service   6\n",
    "# > 48 Months         0\n",
    "#36-48 Months         5  \n",
    "#24-30 Months         3  \n",
    "#30-36 Months         4  \n",
    "#18-24 Months         2  \n",
    "#12-18 Months         1  "
   ]
  },
  {
   "cell_type": "code",
   "execution_count": 130,
   "metadata": {},
   "outputs": [
    {
     "name": "stdout",
     "output_type": "stream",
     "text": [
      "Class=0, n=106677 (14.286%)\n",
      "Class=6, n=106677 (14.286%)\n",
      "Class=1, n=106677 (14.286%)\n",
      "Class=5, n=106677 (14.286%)\n",
      "Class=2, n=106677 (14.286%)\n",
      "Class=3, n=106677 (14.286%)\n",
      "Class=4, n=106677 (14.286%)\n"
     ]
    },
    {
     "data": {
      "image/png": "[encoded data removed]",
      "text/plain": [
       "<Figure size 432x288 with 1 Axes>"
      ]
     },
     "metadata": {
      "needs_background": "light"
     },
     "output_type": "display_data"
    }
   ],
   "source": [
    "# example of oversampling a multi-class classification dataset\n",
    "from pandas import read_csv\n",
    "from imblearn.over_sampling import SMOTE\n",
    "from collections import Counter\n",
    "from matplotlib import pyplot\n",
    "from sklearn.preprocessing import LabelEncoder\n",
    "\n",
    "# transform the dataset\n",
    "oversample = SMOTE()\n",
    "X, y = oversample.fit_resample(X, y)\n",
    "# summarize distribution\n",
    "counter = Counter(y)\n",
    "for k,v in counter.items():\n",
    "\tper = v / len(y) * 100\n",
    "\tprint('Class=%d, n=%d (%.3f%%)' % (k, v, per))\n",
    "# plot the distribution\n",
    "pyplot.bar(counter.keys(), counter.values())\n",
    "pyplot.show()"
   ]
  },
  {
   "cell_type": "code",
   "execution_count": null,
   "metadata": {},
   "outputs": [],
   "source": []
  },
  {
   "cell_type": "code",
   "execution_count": 133,
   "metadata": {},
   "outputs": [
    {
     "ename": "TypeError",
     "evalue": "fit_transform() missing 1 required positional argument: 'y'",
     "output_type": "error",
     "traceback": [
      "\u001b[1;31m---------------------------------------------------------------------------\u001b[0m",
      "\u001b[1;31mTypeError\u001b[0m                                 Traceback (most recent call last)",
      "\u001b[1;32m<ipython-input-133-369f404938ca>\u001b[0m in \u001b[0;36m<module>\u001b[1;34m\u001b[0m\n\u001b[0;32m      1\u001b[0m \u001b[1;31m#y = LabelEncoder().inverse_transform(y)\u001b[0m\u001b[1;33m\u001b[0m\u001b[1;33m\u001b[0m\u001b[1;33m\u001b[0m\u001b[0m\n\u001b[1;32m----> 2\u001b[1;33m \u001b[0my\u001b[0m \u001b[1;33m=\u001b[0m \u001b[0mpd\u001b[0m\u001b[1;33m.\u001b[0m\u001b[0mDataFrame\u001b[0m\u001b[1;33m(\u001b[0m\u001b[0my\u001b[0m\u001b[1;33m)\u001b[0m\u001b[1;33m.\u001b[0m\u001b[0mapply\u001b[0m\u001b[1;33m(\u001b[0m\u001b[0mLabelEncoder\u001b[0m\u001b[1;33m.\u001b[0m\u001b[0mfit_transform\u001b[0m\u001b[1;33m)\u001b[0m\u001b[1;33m\u001b[0m\u001b[1;33m\u001b[0m\u001b[0m\n\u001b[0m\u001b[0;32m      3\u001b[0m \u001b[0mdf_train1\u001b[0m \u001b[1;33m=\u001b[0m \u001b[0mpd\u001b[0m\u001b[1;33m.\u001b[0m\u001b[0mconcat\u001b[0m\u001b[1;33m(\u001b[0m\u001b[1;33m(\u001b[0m\u001b[0mpd\u001b[0m\u001b[1;33m.\u001b[0m\u001b[0mDataFrame\u001b[0m\u001b[1;33m(\u001b[0m\u001b[0mX\u001b[0m\u001b[1;33m)\u001b[0m\u001b[1;33m,\u001b[0m \u001b[0mpd\u001b[0m\u001b[1;33m.\u001b[0m\u001b[0mDataFrame\u001b[0m\u001b[1;33m(\u001b[0m\u001b[0my\u001b[0m\u001b[1;33m)\u001b[0m\u001b[1;33m)\u001b[0m\u001b[1;33m,\u001b[0m \u001b[0maxis\u001b[0m \u001b[1;33m=\u001b[0m\u001b[1;36m1\u001b[0m\u001b[1;33m)\u001b[0m\u001b[1;33m\u001b[0m\u001b[1;33m\u001b[0m\u001b[0m\n\u001b[0;32m      4\u001b[0m \u001b[0mtrain_cols\u001b[0m \u001b[1;33m=\u001b[0m \u001b[0mdf_train1\u001b[0m\u001b[1;33m.\u001b[0m\u001b[0mcolumns\u001b[0m\u001b[1;33m\u001b[0m\u001b[1;33m\u001b[0m\u001b[0m\n\u001b[0;32m      5\u001b[0m \u001b[0mtest_cols\u001b[0m \u001b[1;33m=\u001b[0m \u001b[0mdf_test\u001b[0m\u001b[1;33m.\u001b[0m\u001b[0mcolumns\u001b[0m\u001b[1;33m\u001b[0m\u001b[1;33m\u001b[0m\u001b[0m\n",
      "\u001b[1;32mD:\\Study\\Great Lakes\\INtro to python\\Anaconda\\lib\\site-packages\\pandas\\core\\frame.py\u001b[0m in \u001b[0;36mapply\u001b[1;34m(self, func, axis, raw, result_type, args, **kwds)\u001b[0m\n\u001b[0;32m   7545\u001b[0m             \u001b[0mkwds\u001b[0m\u001b[1;33m=\u001b[0m\u001b[0mkwds\u001b[0m\u001b[1;33m,\u001b[0m\u001b[1;33m\u001b[0m\u001b[1;33m\u001b[0m\u001b[0m\n\u001b[0;32m   7546\u001b[0m         )\n\u001b[1;32m-> 7547\u001b[1;33m         \u001b[1;32mreturn\u001b[0m \u001b[0mop\u001b[0m\u001b[1;33m.\u001b[0m\u001b[0mget_result\u001b[0m\u001b[1;33m(\u001b[0m\u001b[1;33m)\u001b[0m\u001b[1;33m\u001b[0m\u001b[1;33m\u001b[0m\u001b[0m\n\u001b[0m\u001b[0;32m   7548\u001b[0m \u001b[1;33m\u001b[0m\u001b[0m\n\u001b[0;32m   7549\u001b[0m     \u001b[1;32mdef\u001b[0m \u001b[0mapplymap\u001b[0m\u001b[1;33m(\u001b[0m\u001b[0mself\u001b[0m\u001b[1;33m,\u001b[0m \u001b[0mfunc\u001b[0m\u001b[1;33m)\u001b[0m \u001b[1;33m->\u001b[0m \u001b[1;34m\"DataFrame\"\u001b[0m\u001b[1;33m:\u001b[0m\u001b[1;33m\u001b[0m\u001b[1;33m\u001b[0m\u001b[0m\n",
      "\u001b[1;32mD:\\Study\\Great Lakes\\INtro to python\\Anaconda\\lib\\site-packages\\pandas\\core\\apply.py\u001b[0m in \u001b[0;36mget_result\u001b[1;34m(self)\u001b[0m\n\u001b[0;32m    178\u001b[0m             \u001b[1;32mreturn\u001b[0m \u001b[0mself\u001b[0m\u001b[1;33m.\u001b[0m\u001b[0mapply_raw\u001b[0m\u001b[1;33m(\u001b[0m\u001b[1;33m)\u001b[0m\u001b[1;33m\u001b[0m\u001b[1;33m\u001b[0m\u001b[0m\n\u001b[0;32m    179\u001b[0m \u001b[1;33m\u001b[0m\u001b[0m\n\u001b[1;32m--> 180\u001b[1;33m         \u001b[1;32mreturn\u001b[0m \u001b[0mself\u001b[0m\u001b[1;33m.\u001b[0m\u001b[0mapply_standard\u001b[0m\u001b[1;33m(\u001b[0m\u001b[1;33m)\u001b[0m\u001b[1;33m\u001b[0m\u001b[1;33m\u001b[0m\u001b[0m\n\u001b[0m\u001b[0;32m    181\u001b[0m \u001b[1;33m\u001b[0m\u001b[0m\n\u001b[0;32m    182\u001b[0m     \u001b[1;32mdef\u001b[0m \u001b[0mapply_empty_result\u001b[0m\u001b[1;33m(\u001b[0m\u001b[0mself\u001b[0m\u001b[1;33m)\u001b[0m\u001b[1;33m:\u001b[0m\u001b[1;33m\u001b[0m\u001b[1;33m\u001b[0m\u001b[0m\n",
      "\u001b[1;32mD:\\Study\\Great Lakes\\INtro to python\\Anaconda\\lib\\site-packages\\pandas\\core\\apply.py\u001b[0m in \u001b[0;36mapply_standard\u001b[1;34m(self)\u001b[0m\n\u001b[0;32m    253\u001b[0m \u001b[1;33m\u001b[0m\u001b[0m\n\u001b[0;32m    254\u001b[0m     \u001b[1;32mdef\u001b[0m \u001b[0mapply_standard\u001b[0m\u001b[1;33m(\u001b[0m\u001b[0mself\u001b[0m\u001b[1;33m)\u001b[0m\u001b[1;33m:\u001b[0m\u001b[1;33m\u001b[0m\u001b[1;33m\u001b[0m\u001b[0m\n\u001b[1;32m--> 255\u001b[1;33m         \u001b[0mresults\u001b[0m\u001b[1;33m,\u001b[0m \u001b[0mres_index\u001b[0m \u001b[1;33m=\u001b[0m \u001b[0mself\u001b[0m\u001b[1;33m.\u001b[0m\u001b[0mapply_series_generator\u001b[0m\u001b[1;33m(\u001b[0m\u001b[1;33m)\u001b[0m\u001b[1;33m\u001b[0m\u001b[1;33m\u001b[0m\u001b[0m\n\u001b[0m\u001b[0;32m    256\u001b[0m \u001b[1;33m\u001b[0m\u001b[0m\n\u001b[0;32m    257\u001b[0m         \u001b[1;31m# wrap results\u001b[0m\u001b[1;33m\u001b[0m\u001b[1;33m\u001b[0m\u001b[1;33m\u001b[0m\u001b[0m\n",
      "\u001b[1;32mD:\\Study\\Great Lakes\\INtro to python\\Anaconda\\lib\\site-packages\\pandas\\core\\apply.py\u001b[0m in \u001b[0;36mapply_series_generator\u001b[1;34m(self)\u001b[0m\n\u001b[0;32m    282\u001b[0m                 \u001b[1;32mfor\u001b[0m \u001b[0mi\u001b[0m\u001b[1;33m,\u001b[0m \u001b[0mv\u001b[0m \u001b[1;32min\u001b[0m \u001b[0menumerate\u001b[0m\u001b[1;33m(\u001b[0m\u001b[0mseries_gen\u001b[0m\u001b[1;33m)\u001b[0m\u001b[1;33m:\u001b[0m\u001b[1;33m\u001b[0m\u001b[1;33m\u001b[0m\u001b[0m\n\u001b[0;32m    283\u001b[0m                     \u001b[1;31m# ignore SettingWithCopy here in case the user mutates\u001b[0m\u001b[1;33m\u001b[0m\u001b[1;33m\u001b[0m\u001b[1;33m\u001b[0m\u001b[0m\n\u001b[1;32m--> 284\u001b[1;33m                     \u001b[0mresults\u001b[0m\u001b[1;33m[\u001b[0m\u001b[0mi\u001b[0m\u001b[1;33m]\u001b[0m \u001b[1;33m=\u001b[0m \u001b[0mself\u001b[0m\u001b[1;33m.\u001b[0m\u001b[0mf\u001b[0m\u001b[1;33m(\u001b[0m\u001b[0mv\u001b[0m\u001b[1;33m)\u001b[0m\u001b[1;33m\u001b[0m\u001b[1;33m\u001b[0m\u001b[0m\n\u001b[0m\u001b[0;32m    285\u001b[0m                     \u001b[1;32mif\u001b[0m \u001b[0misinstance\u001b[0m\u001b[1;33m(\u001b[0m\u001b[0mresults\u001b[0m\u001b[1;33m[\u001b[0m\u001b[0mi\u001b[0m\u001b[1;33m]\u001b[0m\u001b[1;33m,\u001b[0m \u001b[0mABCSeries\u001b[0m\u001b[1;33m)\u001b[0m\u001b[1;33m:\u001b[0m\u001b[1;33m\u001b[0m\u001b[1;33m\u001b[0m\u001b[0m\n\u001b[0;32m    286\u001b[0m                         \u001b[1;31m# If we have a view on v, we need to make a copy because\u001b[0m\u001b[1;33m\u001b[0m\u001b[1;33m\u001b[0m\u001b[1;33m\u001b[0m\u001b[0m\n",
      "\u001b[1;31mTypeError\u001b[0m: fit_transform() missing 1 required positional argument: 'y'"
     ]
    }
   ],
   "source": [
    "#y = LabelEncoder().inverse_transform(y)\n",
    "y = pd.DataFrame(y).apply(LabelEncoder.fit_transform)\n",
    "df_train1 = pd.concat((pd.DataFrame(X), pd.DataFrame(y)), axis =1)\n",
    "train_cols = df_train1.columns\n",
    "test_cols = df_test.columns\n",
    "\n",
    "common_cols = train_cols.intersection(test_cols)\n",
    "train_not_test = train_cols.difference(test_cols)\n",
    "\n",
    "train_not_test"
   ]
  },
  {
   "cell_type": "code",
   "execution_count": 89,
   "metadata": {},
   "outputs": [
    {
     "name": "stdout",
     "output_type": "stream",
     "text": [
      "Training Shape: (746739, 111) \n",
      "Test Data Shape: (14745, 110)\n"
     ]
    }
   ],
   "source": [
    "df_train1 = df_train1[common_cols]\n",
    "if 'Top-up Month' not in df_train1:\n",
    "    df_train1['Top-up Month'] = pd.DataFrame(y)\n",
    "df_test1 = df_test[common_cols]\n",
    "\n",
    "print('Training Shape:', df_train1.shape,'\\nTest Data Shape:', df_test1.shape)"
   ]
  },
  {
   "cell_type": "code",
   "execution_count": 90,
   "metadata": {},
   "outputs": [],
   "source": [
    "df_train1.to_csv('df_train_imputed_median_smote.csv')\n",
    "df_test1.to_csv('df_test_imputed_median_smote.csv')"
   ]
  },
  {
   "cell_type": "markdown",
   "metadata": {},
   "source": [
    "# Creating a Dataframe with High Mutual Information"
   ]
  },
  {
   "cell_type": "code",
   "execution_count": 91,
   "metadata": {},
   "outputs": [
    {
     "name": "stdout",
     "output_type": "stream",
     "text": [
      "NA values in Training Data:  0 \n",
      "NA values in Testing Data : 0\n",
      "Class=0, n=8366 (6.503%)\n",
      "Class=6, n=106677 (82.917%)\n",
      "Class=1, n=1034 (0.804%)\n",
      "Class=5, n=3656 (2.842%)\n",
      "Class=2, n=2368 (1.841%)\n",
      "Class=3, n=3492 (2.714%)\n",
      "Class=4, n=3062 (2.380%)\n"
     ]
    },
    {
     "data": {
      "image/png": "[encoded data removed]",
      "text/plain": [
       "<Figure size 432x288 with 1 Axes>"
      ]
     },
     "metadata": {
      "needs_background": "light"
     },
     "output_type": "display_data"
    }
   ],
   "source": [
    "df_train = pd.read_csv('df_train1_mutualInformation.csv')\n",
    "df_test = pd.read_csv('df_test1_mutualInformation.csv')\n",
    "# split into input and output elements\n",
    "X, y = df_train.drop(['Top-up Month'], axis =1), df_train['Top-up Month']\n",
    "# label encode the target variable\n",
    "y = LabelEncoder().fit_transform(y)\n",
    "# summarize distribution\n",
    "counter = Counter(y)\n",
    "print('NA values in Training Data: ', df_train.isna().sum().sum(),'\\nNA values in Testing Data :', df_test.isna().sum().sum())\n",
    "for k,v in counter.items():\n",
    "\tper = v / len(y) * 100\n",
    "\tprint('Class=%d, n=%d (%.3f%%)' % (k, v, per))\n",
    "# plot the distribution\n",
    "pyplot.bar(counter.keys(), counter.values())\n",
    "pyplot.show()"
   ]
  },
  {
   "cell_type": "code",
   "execution_count": 92,
   "metadata": {},
   "outputs": [
    {
     "name": "stdout",
     "output_type": "stream",
     "text": [
      "Class=0, n=106677 (14.286%)\n",
      "Class=6, n=106677 (14.286%)\n",
      "Class=1, n=106677 (14.286%)\n",
      "Class=5, n=106677 (14.286%)\n",
      "Class=2, n=106677 (14.286%)\n",
      "Class=3, n=106677 (14.286%)\n",
      "Class=4, n=106677 (14.286%)\n"
     ]
    },
    {
     "data": {
      "image/png": "[encoded data removed]",
      "text/plain": [
       "<Figure size 432x288 with 1 Axes>"
      ]
     },
     "metadata": {
      "needs_background": "light"
     },
     "output_type": "display_data"
    }
   ],
   "source": [
    "# example of oversampling a multi-class classification dataset\n",
    "from pandas import read_csv\n",
    "from imblearn.over_sampling import SMOTE\n",
    "from collections import Counter\n",
    "from matplotlib import pyplot\n",
    "from sklearn.preprocessing import LabelEncoder\n",
    "\n",
    "# transform the dataset\n",
    "oversample = SMOTE()\n",
    "X, y = oversample.fit_resample(X, y)\n",
    "# summarize distribution\n",
    "counter = Counter(y)\n",
    "for k,v in counter.items():\n",
    "\tper = v / len(y) * 100\n",
    "\tprint('Class=%d, n=%d (%.3f%%)' % (k, v, per))\n",
    "# plot the distribution\n",
    "pyplot.bar(counter.keys(), counter.values())\n",
    "pyplot.show()"
   ]
  },
  {
   "cell_type": "code",
   "execution_count": 93,
   "metadata": {},
   "outputs": [
    {
     "data": {
      "text/plain": [
       "Index([                                                                     0,\n",
       "                                                   'ACCOUNT-STATUS_Cancelled',\n",
       "       'ACCT-TYPE_Business Non-Funded Credit Facility-Priority Sector-Others',\n",
       "                                                        'ACCT-TYPE_JLG Group',\n",
       "                                              'ACCT-TYPE_Loan on Credit Card',\n",
       "                                                   'ACCT-TYPE_Telco Landline',\n",
       "                                                      'Frequency_Half Yearly'],\n",
       "      dtype='object')"
      ]
     },
     "execution_count": 93,
     "metadata": {},
     "output_type": "execute_result"
    }
   ],
   "source": [
    "df_train1 = pd.concat((pd.DataFrame(X), pd.DataFrame(y)), axis =1)\n",
    "train_cols = df_train1.columns\n",
    "test_cols = df_test.columns\n",
    "\n",
    "common_cols = train_cols.intersection(test_cols)\n",
    "train_not_test = train_cols.difference(test_cols)\n",
    "\n",
    "train_not_test"
   ]
  },
  {
   "cell_type": "code",
   "execution_count": 95,
   "metadata": {},
   "outputs": [],
   "source": [
    "df_train1 = df_train1[common_cols]\n",
    "if 'Top-up Month' not in df_train1:\n",
    "    df_train1['Top-up Month'] = pd.DataFrame(y)\n",
    "\n",
    "df_test1 = df_test[common_cols]"
   ]
  },
  {
   "cell_type": "code",
   "execution_count": 96,
   "metadata": {},
   "outputs": [
    {
     "name": "stdout",
     "output_type": "stream",
     "text": [
      "Training Shape: (746739, 93) \n",
      "Test Data Shape: (14745, 92)\n"
     ]
    }
   ],
   "source": [
    "print('Training Shape:', df_train1.shape,'\\nTest Data Shape:', df_test1.shape)"
   ]
  },
  {
   "cell_type": "code",
   "execution_count": 97,
   "metadata": {},
   "outputs": [],
   "source": [
    "df_train1.to_csv('df_train1_mutualInformation_smote.csv')\n",
    "df_test1.to_csv('df_test1_mutualInformation_smote.csv')"
   ]
  },
  {
   "cell_type": "markdown",
   "metadata": {},
   "source": [
    "# Creating dataframe with Correlated columns removed"
   ]
  },
  {
   "cell_type": "code",
   "execution_count": 98,
   "metadata": {},
   "outputs": [
    {
     "name": "stdout",
     "output_type": "stream",
     "text": [
      "NA values in Training Data:  0 \n",
      "NA values in Testing Data : 0\n",
      "Class=0, n=8366 (6.503%)\n",
      "Class=6, n=106677 (82.917%)\n",
      "Class=1, n=1034 (0.804%)\n",
      "Class=5, n=3656 (2.842%)\n",
      "Class=2, n=2368 (1.841%)\n",
      "Class=3, n=3492 (2.714%)\n",
      "Class=4, n=3062 (2.380%)\n"
     ]
    },
    {
     "data": {
      "image/png": "[encoded data removed]",
      "text/plain": [
       "<Figure size 432x288 with 1 Axes>"
      ]
     },
     "metadata": {
      "needs_background": "light"
     },
     "output_type": "display_data"
    }
   ],
   "source": [
    "df_train = pd.read_csv('df_train2_corr_removed.csv')\n",
    "df_test = pd.read_csv('df_test2_corr_removed.csv')\n",
    "# split into input and output elements\n",
    "X, y = df_train.drop(['Top-up Month'], axis =1), df_train['Top-up Month']\n",
    "# label encode the target variable\n",
    "y = LabelEncoder().fit_transform(y)\n",
    "# summarize distribution\n",
    "counter = Counter(y)\n",
    "print('NA values in Training Data: ', df_train.isna().sum().sum(),'\\nNA values in Testing Data :', df_test.isna().sum().sum())\n",
    "for k,v in counter.items():\n",
    "\tper = v / len(y) * 100\n",
    "\tprint('Class=%d, n=%d (%.3f%%)' % (k, v, per))\n",
    "# plot the distribution\n",
    "pyplot.bar(counter.keys(), counter.values())\n",
    "pyplot.show()"
   ]
  },
  {
   "cell_type": "code",
   "execution_count": 99,
   "metadata": {},
   "outputs": [
    {
     "name": "stdout",
     "output_type": "stream",
     "text": [
      "Class=0, n=106677 (14.286%)\n",
      "Class=6, n=106677 (14.286%)\n",
      "Class=1, n=106677 (14.286%)\n",
      "Class=5, n=106677 (14.286%)\n",
      "Class=2, n=106677 (14.286%)\n",
      "Class=3, n=106677 (14.286%)\n",
      "Class=4, n=106677 (14.286%)\n"
     ]
    },
    {
     "data": {
      "image/png": "[encoded data removed]",
      "text/plain": [
       "<Figure size 432x288 with 1 Axes>"
      ]
     },
     "metadata": {
      "needs_background": "light"
     },
     "output_type": "display_data"
    }
   ],
   "source": [
    "# example of oversampling a multi-class classification dataset\n",
    "from pandas import read_csv\n",
    "from imblearn.over_sampling import SMOTE\n",
    "from collections import Counter\n",
    "from matplotlib import pyplot\n",
    "from sklearn.preprocessing import LabelEncoder\n",
    "\n",
    "# transform the dataset\n",
    "oversample = SMOTE()\n",
    "X, y = oversample.fit_resample(X, y)\n",
    "# summarize distribution\n",
    "counter = Counter(y)\n",
    "for k,v in counter.items():\n",
    "\tper = v / len(y) * 100\n",
    "\tprint('Class=%d, n=%d (%.3f%%)' % (k, v, per))\n",
    "# plot the distribution\n",
    "pyplot.bar(counter.keys(), counter.values())\n",
    "pyplot.show()"
   ]
  },
  {
   "cell_type": "code",
   "execution_count": 100,
   "metadata": {},
   "outputs": [
    {
     "data": {
      "text/plain": [
       "Index([                                                                     0,\n",
       "                                                   'ACCOUNT-STATUS_Cancelled',\n",
       "                                              'ACCOUNT-STATUS_Sold/Purchased',\n",
       "       'ACCT-TYPE_Business Non-Funded Credit Facility-Priority Sector-Others',\n",
       "                                                        'ACCT-TYPE_JLG Group',\n",
       "                                                          'ACCT-TYPE_Leasing',\n",
       "                                              'ACCT-TYPE_Loan on Credit Card',\n",
       "                                                        'ACCT-TYPE_SHG Group',\n",
       "                                                   'ACCT-TYPE_Telco Landline',\n",
       "                                                       'CONTRIBUTOR-TYPE_CCC',\n",
       "                                                      'Frequency_Half Yearly'],\n",
       "      dtype='object')"
      ]
     },
     "execution_count": 100,
     "metadata": {},
     "output_type": "execute_result"
    }
   ],
   "source": [
    "df_train1 = pd.concat((pd.DataFrame(X), pd.DataFrame(y)), axis =1)\n",
    "train_cols = df_train1.columns\n",
    "test_cols = df_test.columns\n",
    "\n",
    "common_cols = train_cols.intersection(test_cols)\n",
    "train_not_test = train_cols.difference(test_cols)\n",
    "\n",
    "train_not_test"
   ]
  },
  {
   "cell_type": "code",
   "execution_count": 101,
   "metadata": {},
   "outputs": [],
   "source": [
    "df_train1 = df_train1[common_cols]\n",
    "if 'Top-up Month' not in df_train1:\n",
    "    df_train1['Top-up Month'] = pd.DataFrame(y)\n",
    "df_test1 = df_test[common_cols]"
   ]
  },
  {
   "cell_type": "code",
   "execution_count": 102,
   "metadata": {},
   "outputs": [
    {
     "name": "stdout",
     "output_type": "stream",
     "text": [
      "Training Shape: (746739, 104) \n",
      "Test Data Shape: (14745, 103)\n"
     ]
    }
   ],
   "source": [
    "print('Training Shape:', df_train1.shape,'\\nTest Data Shape:', df_test1.shape)"
   ]
  },
  {
   "cell_type": "code",
   "execution_count": 103,
   "metadata": {},
   "outputs": [],
   "source": [
    "df_train1.to_csv('df_train2_corr_removed_smote.csv')\n",
    "df_test1.to_csv('df_test2_corr_removed_smote.csv')"
   ]
  },
  {
   "cell_type": "markdown",
   "metadata": {},
   "source": [
    "# Creating dataset for corr removed columns data"
   ]
  },
  {
   "cell_type": "code",
   "execution_count": 115,
   "metadata": {},
   "outputs": [
    {
     "name": "stdout",
     "output_type": "stream",
     "text": [
      "NA values in Training Data:  0 \n",
      "NA values in Testing Data : 0\n",
      "Class=0, n=8366 (6.503%)\n",
      "Class=6, n=106677 (82.917%)\n",
      "Class=1, n=1034 (0.804%)\n",
      "Class=5, n=3656 (2.842%)\n",
      "Class=2, n=2368 (1.841%)\n",
      "Class=3, n=3492 (2.714%)\n",
      "Class=4, n=3062 (2.380%)\n"
     ]
    },
    {
     "data": {
      "image/png": "[encoded data removed]",
      "text/plain": [
       "<Figure size 432x288 with 1 Axes>"
      ]
     },
     "metadata": {
      "needs_background": "light"
     },
     "output_type": "display_data"
    }
   ],
   "source": [
    "df_train = pd.read_csv('df_train1_corr_removed.csv')\n",
    "df_test = pd.read_csv('df_test1_corr_removed.csv')\n",
    "# split into input and output elements\n",
    "X, y = df_train.drop(['Top-up Month'], axis =1), df_train['Top-up Month']\n",
    "# label encode the target variable\n",
    "y = LabelEncoder().fit_transform(y)\n",
    "# summarize distribution\n",
    "counter = Counter(y)\n",
    "print('NA values in Training Data: ', df_train.isna().sum().sum(),'\\nNA values in Testing Data :', df_test.isna().sum().sum())\n",
    "for k,v in counter.items():\n",
    "\tper = v / len(y) * 100\n",
    "\tprint('Class=%d, n=%d (%.3f%%)' % (k, v, per))\n",
    "# plot the distribution\n",
    "pyplot.bar(counter.keys(), counter.values())\n",
    "pyplot.show()"
   ]
  },
  {
   "cell_type": "code",
   "execution_count": 116,
   "metadata": {},
   "outputs": [
    {
     "name": "stdout",
     "output_type": "stream",
     "text": [
      "Class=0, n=106677 (14.286%)\n",
      "Class=6, n=106677 (14.286%)\n",
      "Class=1, n=106677 (14.286%)\n",
      "Class=5, n=106677 (14.286%)\n",
      "Class=2, n=106677 (14.286%)\n",
      "Class=3, n=106677 (14.286%)\n",
      "Class=4, n=106677 (14.286%)\n"
     ]
    },
    {
     "data": {
      "image/png": "[encoded data removed]",
      "text/plain": [
       "<Figure size 432x288 with 1 Axes>"
      ]
     },
     "metadata": {
      "needs_background": "light"
     },
     "output_type": "display_data"
    }
   ],
   "source": [
    "# example of oversampling a multi-class classification dataset\n",
    "from pandas import read_csv\n",
    "from imblearn.over_sampling import SMOTE\n",
    "from collections import Counter\n",
    "from matplotlib import pyplot\n",
    "from sklearn.preprocessing import LabelEncoder\n",
    "\n",
    "# transform the dataset\n",
    "oversample = SMOTE()\n",
    "X, y = oversample.fit_resample(X, y)\n",
    "# summarize distribution\n",
    "counter = Counter(y)\n",
    "for k,v in counter.items():\n",
    "\tper = v / len(y) * 100\n",
    "\tprint('Class=%d, n=%d (%.3f%%)' % (k, v, per))\n",
    "# plot the distribution\n",
    "pyplot.bar(counter.keys(), counter.values())\n",
    "pyplot.show()"
   ]
  },
  {
   "cell_type": "code",
   "execution_count": 117,
   "metadata": {},
   "outputs": [
    {
     "data": {
      "text/plain": [
       "Index([                                                                     0,\n",
       "                                                   'ACCOUNT-STATUS_Cancelled',\n",
       "                                              'ACCOUNT-STATUS_Sold/Purchased',\n",
       "       'ACCT-TYPE_Business Non-Funded Credit Facility-Priority Sector-Others',\n",
       "                                                        'ACCT-TYPE_JLG Group',\n",
       "                                                          'ACCT-TYPE_Leasing',\n",
       "                                              'ACCT-TYPE_Loan on Credit Card',\n",
       "                                                        'ACCT-TYPE_SHG Group',\n",
       "                                                   'ACCT-TYPE_Telco Landline',\n",
       "                                                       'CONTRIBUTOR-TYPE_CCC',\n",
       "                                                      'Frequency_Half Yearly'],\n",
       "      dtype='object')"
      ]
     },
     "execution_count": 117,
     "metadata": {},
     "output_type": "execute_result"
    }
   ],
   "source": [
    "df_train1 = pd.concat((pd.DataFrame(X), pd.DataFrame(y)), axis =1)\n",
    "train_cols = df_train1.columns\n",
    "test_cols = df_test.columns\n",
    "\n",
    "common_cols = train_cols.intersection(test_cols)\n",
    "train_not_test = train_cols.difference(test_cols)\n",
    "\n",
    "train_not_test"
   ]
  },
  {
   "cell_type": "code",
   "execution_count": 118,
   "metadata": {},
   "outputs": [
    {
     "name": "stdout",
     "output_type": "stream",
     "text": [
      "Training Shape: (746739, 101) \n",
      "Test Data Shape: (14745, 100)\n"
     ]
    }
   ],
   "source": [
    "df_train1 = df_train1[common_cols]\n",
    "if 'Top-up Month' not in df_train1:\n",
    "    df_train1['Top-up Month'] = pd.DataFrame(y)\n",
    "df_test1 = df_test[common_cols]\n",
    "print('Training Shape:', df_train1.shape,'\\nTest Data Shape:', df_test1.shape)"
   ]
  },
  {
   "cell_type": "code",
   "execution_count": 119,
   "metadata": {},
   "outputs": [],
   "source": [
    "df_train1.to_csv('df_train1_corr_removed_smote.csv')\n",
    "df_test1.to_csv('df_test1_corr_removed_smote.csv')"
   ]
  },
  {
   "cell_type": "markdown",
   "metadata": {},
   "source": [
    "# Creating a dataframe with 92 PCA components"
   ]
  },
  {
   "cell_type": "code",
   "execution_count": 109,
   "metadata": {},
   "outputs": [
    {
     "name": "stdout",
     "output_type": "stream",
     "text": [
      "NA values in Training Data:  0 \n",
      "NA values in Testing Data : 0\n",
      "Class=0, n=8366 (6.503%)\n",
      "Class=6, n=106677 (82.917%)\n",
      "Class=1, n=1034 (0.804%)\n",
      "Class=5, n=3656 (2.842%)\n",
      "Class=2, n=2368 (1.841%)\n",
      "Class=3, n=3492 (2.714%)\n",
      "Class=4, n=3062 (2.380%)\n"
     ]
    },
    {
     "data": {
      "image/png": "[encoded data removed]",
      "text/plain": [
       "<Figure size 432x288 with 1 Axes>"
      ]
     },
     "metadata": {
      "needs_background": "light"
     },
     "output_type": "display_data"
    }
   ],
   "source": [
    "df = pd.read_csv('df_train_Data1.csv')\n",
    "df_train = pd.read_csv('df_train_PCA_92component.csv')\n",
    "df_test = pd.read_csv('df_test_PCA_92component.csv')\n",
    "df_train = pd.concat((df_train, df['Top-up Month']), axis=1)\n",
    "# split into input and output elements\n",
    "X, y = df_train.drop(['Top-up Month'], axis =1), df_train['Top-up Month']\n",
    "# label encode the target variable\n",
    "y = LabelEncoder().fit_transform(y)\n",
    "# summarize distribution\n",
    "counter = Counter(y)\n",
    "print('NA values in Training Data: ', df_train.isna().sum().sum(),'\\nNA values in Testing Data :', df_test.isna().sum().sum())\n",
    "for k,v in counter.items():\n",
    "\tper = v / len(y) * 100\n",
    "\tprint('Class=%d, n=%d (%.3f%%)' % (k, v, per))\n",
    "# plot the distribution\n",
    "pyplot.bar(counter.keys(), counter.values())\n",
    "pyplot.show()"
   ]
  },
  {
   "cell_type": "code",
   "execution_count": 110,
   "metadata": {},
   "outputs": [
    {
     "name": "stdout",
     "output_type": "stream",
     "text": [
      "Class=0, n=106677 (14.286%)\n",
      "Class=6, n=106677 (14.286%)\n",
      "Class=1, n=106677 (14.286%)\n",
      "Class=5, n=106677 (14.286%)\n",
      "Class=2, n=106677 (14.286%)\n",
      "Class=3, n=106677 (14.286%)\n",
      "Class=4, n=106677 (14.286%)\n"
     ]
    },
    {
     "data": {
      "image/png": "[encoded data removed]",
      "text/plain": [
       "<Figure size 432x288 with 1 Axes>"
      ]
     },
     "metadata": {
      "needs_background": "light"
     },
     "output_type": "display_data"
    }
   ],
   "source": [
    "# example of oversampling a multi-class classification dataset\n",
    "from pandas import read_csv\n",
    "from imblearn.over_sampling import SMOTE\n",
    "from collections import Counter\n",
    "from matplotlib import pyplot\n",
    "from sklearn.preprocessing import LabelEncoder\n",
    "\n",
    "# transform the dataset\n",
    "oversample = SMOTE()\n",
    "X, y = oversample.fit_resample(X, y)\n",
    "# summarize distribution\n",
    "counter = Counter(y)\n",
    "for k,v in counter.items():\n",
    "\tper = v / len(y) * 100\n",
    "\tprint('Class=%d, n=%d (%.3f%%)' % (k, v, per))\n",
    "# plot the distribution\n",
    "pyplot.bar(counter.keys(), counter.values())\n",
    "pyplot.show()"
   ]
  },
  {
   "cell_type": "code",
   "execution_count": 111,
   "metadata": {},
   "outputs": [
    {
     "data": {
      "text/plain": [
       "Index(['PC#1', 'PC#2', 'PC#3', 'PC#4', 'PC#5', 'PC#6', 'PC#7', 'PC#8', 'PC#9',\n",
       "       'PC#10', 'PC#11', 'PC#12', 'PC#13', 'PC#14', 'PC#15', 'PC#16', 'PC#17',\n",
       "       'PC#18', 'PC#19', 'PC#20', 'PC#21', 'PC#22', 'PC#23', 'PC#24', 'PC#25',\n",
       "       'PC#26', 'PC#27', 'PC#28', 'PC#29', 'PC#30', 'PC#31', 'PC#32', 'PC#33',\n",
       "       'PC#34', 'PC#35', 'PC#36', 'PC#37', 'PC#38', 'PC#39', 'PC#40', 'PC#41',\n",
       "       'PC#42', 'PC#43', 'PC#44', 'PC#45', 'PC#46', 'PC#47', 'PC#48', 'PC#49',\n",
       "       'PC#50', 'PC#51', 'PC#52', 'PC#53', 'PC#54', 'PC#55', 'PC#56', 'PC#57',\n",
       "       'PC#58', 'PC#59', 'PC#60', 'PC#61', 'PC#62', 'PC#63', 'PC#64', 'PC#65',\n",
       "       'PC#66', 'PC#67', 'PC#68', 'PC#69', 'PC#70', 'PC#71', 'PC#72', 'PC#73',\n",
       "       'PC#74', 'PC#75', 'PC#76', 'PC#77', 'PC#78', 'PC#79', 'PC#80', 'PC#81',\n",
       "       'PC#82', 'PC#83', 'PC#84', 'PC#85', 'PC#86', 'PC#87', 'PC#88', 'PC#89',\n",
       "       'PC#90', 'PC#91', 'PC#92'],\n",
       "      dtype='object')"
      ]
     },
     "execution_count": 111,
     "metadata": {},
     "output_type": "execute_result"
    }
   ],
   "source": [
    "df_train1 = pd.concat((pd.DataFrame(X), pd.DataFrame(y)), axis =1)\n",
    "train_cols = df_train1.columns\n",
    "test_cols = df_test.columns\n",
    "\n",
    "common_cols = train_cols.intersection(test_cols)\n",
    "train_not_test = train_cols.difference(test_cols)\n",
    "\n",
    "common_cols"
   ]
  },
  {
   "cell_type": "code",
   "execution_count": 112,
   "metadata": {},
   "outputs": [
    {
     "name": "stdout",
     "output_type": "stream",
     "text": [
      "Training Shape: (746739, 93) \n",
      "Test Data Shape: (14745, 92)\n"
     ]
    }
   ],
   "source": [
    "df_train1 = df_train1[common_cols]\n",
    "\n",
    "if 'Top-up Month' not in df_train1:\n",
    "    df_train1['Top-up Month'] = pd.DataFrame(y)\n",
    "\n",
    "\n",
    "df_test1 = df_test[common_cols]\n",
    "print('Training Shape:', df_train1.shape,'\\nTest Data Shape:', df_test1.shape)"
   ]
  },
  {
   "cell_type": "code",
   "execution_count": 114,
   "metadata": {},
   "outputs": [],
   "source": [
    "df_train1.to_csv('df_train_PCA_92component_smote.csv')\n",
    "df_test1.to_csv('df_test_PCA_92component_removed_smote.csv')"
   ]
  },
  {
   "cell_type": "code",
   "execution_count": null,
   "metadata": {},
   "outputs": [],
   "source": []
  }
 ],
 "metadata": {
  "kernelspec": {
   "display_name": "python3.7",
   "language": "python",
   "name": "python3.7"
  },
  "language_info": {
   "codemirror_mode": {
    "name": "ipython",
    "version": 3
   },
   "file_extension": ".py",
   "mimetype": "text/x-python",
   "name": "python",
   "nbconvert_exporter": "python",
   "pygments_lexer": "ipython3",
   "version": "3.7.6"
  }
 },
 "nbformat": 4,
 "nbformat_minor": 4
}
